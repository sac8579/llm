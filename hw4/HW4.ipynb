{
  "cells": [
    {
      "cell_type": "markdown",
      "metadata": {
        "id": "HmsFABwClrsS"
      },
      "source": [
        "## Attention Model  (10 pt)\n",
        "\n",
        "Credit to https://github.com/yandexdataschool/nlp_course/blob/2023/week04_seq2seq/practice_and_homework_pytorch.ipynb\n",
        "\n",
        "In previous notebook we composed encoder-decoder recurrent neural networks and applied it to the task of machine translation.\n",
        "\n",
        "![img](https://esciencegroup.files.wordpress.com/2016/03/seq2seq.jpg)\n",
        "_(img: esciencegroup.files.wordpress.com)_\n"
      ]
    },
    {
      "cell_type": "markdown",
      "metadata": {
        "id": "R4N9AD2dlrsU"
      },
      "source": [
        "## Our task today to add additive attention\n"
      ]
    },
    {
      "cell_type": "code",
      "execution_count": null,
      "metadata": {
        "id": "GKSszqZLsHCe"
      },
      "outputs": [],
      "source": [
        "#We'll use data from https://www.kaggle.com/datasets/devicharith/language-translation-englishfrench"
      ]
    },
    {
      "cell_type": "code",
      "execution_count": null,
      "metadata": {
        "id": "klOUlqvHWM3D"
      },
      "outputs": [],
      "source": [
        "#!kaggle datasets download -d devicharith/language-translation-englishfrench"
      ]
    },
    {
      "cell_type": "code",
      "execution_count": null,
      "metadata": {
        "colab": {
          "base_uri": "https://localhost:8080/"
        },
        "id": "IgNi2BF5GVeN",
        "outputId": "7ec56f03-d9a0-40c4-ef57-de3fc7ffe7a2"
      },
      "outputs": [],
      "source": [
        "#!unzip language-translation-englishfrench.zip"
      ]
    },
    {
      "cell_type": "code",
      "execution_count": null,
      "metadata": {
        "colab": {
          "base_uri": "https://localhost:8080/"
        },
        "id": "CfvojjHQlrsU",
        "outputId": "411f9b54-1d2a-484e-cc4c-8a40b12e4dd6"
      },
      "outputs": [],
      "source": [
        "#%conda install torch>=1.3.0\n",
        "#%conda install subword-nmt &> log\n",
        "#!wget https://www.dropbox.com/s/yy2zqh34dyhv07i/data.txt?dl=1 -O data.txt\n",
        "#!wget https://raw.githubusercontent.com/yandexdataschool/nlp_course/2020/week04_seq2seq/vocab.py -O vocab.py\n",
        "# thanks to tilda and deephack teams for the data, Dmitry Emelyanenko for the code :)"
      ]
    },
    {
      "cell_type": "code",
      "execution_count": null,
      "metadata": {
        "colab": {
          "base_uri": "https://localhost:8080/"
        },
        "id": "ftz2jyA4sjnV",
        "outputId": "53de56f9-c4cb-435d-bd46-ecbcce04c21e"
      },
      "outputs": [],
      "source": [
        "import csv\n",
        "from nltk.tokenize import WordPunctTokenizer\n",
        "from subword_nmt.learn_bpe import learn_bpe\n",
        "from subword_nmt.apply_bpe import BPE\n",
        "tokenizer = WordPunctTokenizer()\n",
        "def tokenize(x):\n",
        "    return ' '.join(tokenizer.tokenize(x.lower()))\n",
        "\n",
        "# split and tokenize the data\n",
        "with open('train.en', 'w') as f_src,  open('train.fr', 'w') as f_dst:\n",
        "  with open('eng_-french.csv', 'r') as csv_file:\n",
        "    csv_reader = csv.reader(csv_file)\n",
        "    header = next(csv_reader)\n",
        "    for line in csv_reader:\n",
        "        src_line, dst_line = line[0], line[1]\n",
        "        f_src.write(tokenize(src_line) + '\\n')\n",
        "        f_dst.write(tokenize(dst_line) + '\\n')\n",
        "\n",
        "# build and apply bpe vocs\n",
        "bpe = {}\n",
        "for lang in ['en', 'fr']:\n",
        "    learn_bpe(open('./train.' + lang), open('bpe_rules.' + lang, 'w'), num_symbols=8000)\n",
        "    bpe[lang] = BPE(open('./bpe_rules.' + lang))\n",
        "\n",
        "    with open('train.bpe.' + lang, 'w') as f_out:\n",
        "        for line in open('train.' + lang):\n",
        "            f_out.write(bpe[lang].process_line(line.strip()) + '\\n')"
      ]
    },
    {
      "cell_type": "code",
      "execution_count": null,
      "metadata": {
        "colab": {
          "base_uri": "https://localhost:8080/",
          "height": 35
        },
        "id": "8aRmTrJEvlPj",
        "outputId": "5c86ff64-a18c-4d41-9778-91fad1bd2008"
      },
      "outputs": [],
      "source": [
        "bpe['en'].process_line('A quick brown fox jumps over a lazy dog')"
      ]
    },
    {
      "cell_type": "markdown",
      "metadata": {
        "id": "0UPW3sV8lrsb"
      },
      "source": [
        "### Building vocabularies\n",
        "\n",
        "We now need to build vocabularies that map strings to token ids and vice versa. We're gonna need these fellas when we feed training data into model or convert output matrices into words."
      ]
    },
    {
      "cell_type": "code",
      "execution_count": null,
      "metadata": {
        "id": "CmTy_m_olrsb"
      },
      "outputs": [],
      "source": [
        "import numpy as np\n",
        "import matplotlib.pyplot as plt\n",
        "%matplotlib inline"
      ]
    },
    {
      "cell_type": "code",
      "execution_count": null,
      "metadata": {
        "colab": {
          "base_uri": "https://localhost:8080/"
        },
        "id": "8PskgBSxlrsd",
        "outputId": "3667ee49-869d-4d52-b2cf-31bedb93e935"
      },
      "outputs": [],
      "source": [
        "#data_inp = np.array(open('./train.bpe.ru').read().split('\\n'))\n",
        "data_inp = np.array(open('./train.bpe.fr').read().split('\\n'))\n",
        "data_out = np.array(open('./train.bpe.en').read().split('\\n'))\n",
        "\n",
        "from sklearn.model_selection import train_test_split\n",
        "train_inp, dev_inp, train_out, dev_out = train_test_split(data_inp, data_out, test_size=3000,\n",
        "                                                          random_state=42)\n",
        "for i in range(3):\n",
        "    print('inp:', train_inp[i])\n",
        "    print('out:', train_out[i], end='\\n\\n')"
      ]
    },
    {
      "cell_type": "code",
      "execution_count": null,
      "metadata": {
        "id": "vipg4O61lrsg"
      },
      "outputs": [],
      "source": [
        "from vocab import Vocab\n",
        "inp_voc = Vocab.from_lines(train_inp)\n",
        "out_voc = Vocab.from_lines(train_out)"
      ]
    },
    {
      "cell_type": "markdown",
      "metadata": {
        "id": "BHWgx34flrsn"
      },
      "source": [
        "### Encoder-decoder model\n",
        "\n",
        "The code below contains a template for a simple encoder-decoder model: single GRU encoder/decoder, no attention or anything. This model is implemented for you as a reference and a baseline for your homework assignment."
      ]
    },
    {
      "cell_type": "code",
      "execution_count": null,
      "metadata": {
        "id": "pd_rDRm9lrso"
      },
      "outputs": [],
      "source": [
        "import torch\n",
        "import torch.nn as nn\n",
        "import torch.nn.functional as F\n",
        "# device = 'cuda' if torch.cuda.is_available() else 'cpu'"
      ]
    },
    {
      "cell_type": "code",
      "execution_count": null,
      "metadata": {
        "id": "Wsa-C5zzvlPo"
      },
      "outputs": [],
      "source": [
        "device = torch.device('cuda:0' if torch.cuda.is_available() else 'cpu') # f'cuda:{2}' if torch.cuda.is_available() else 'cpu' #0 -is GPU2, 1 is GPU3, 3 is GPU1, 4 is 4 5 is GPU5,"
      ]
    },
    {
      "cell_type": "code",
      "execution_count": null,
      "metadata": {
        "id": "wgfN5-F7lrst"
      },
      "outputs": [],
      "source": [
        "class BasicModel(nn.Module):\n",
        "    def __init__(self, inp_voc, out_voc, emb_size=64, hid_size=128):\n",
        "        \"\"\"\n",
        "        A simple encoder-decoder seq2seq model\n",
        "        \"\"\"\n",
        "        super().__init__() # initialize base class to track sub-layers, parameters, etc.\n",
        "\n",
        "        self.inp_voc, self.out_voc = inp_voc, out_voc\n",
        "        self.hid_size = hid_size\n",
        "\n",
        "        self.emb_inp = nn.Embedding(len(inp_voc), emb_size)\n",
        "        self.emb_out = nn.Embedding(len(out_voc), emb_size)\n",
        "        self.enc0 = nn.GRU(emb_size, hid_size, batch_first=True)\n",
        "\n",
        "        self.dec_start = nn.Linear(hid_size, hid_size) #connection between encoder and decoder\n",
        "        self.dec0 = nn.GRUCell(emb_size, hid_size)\n",
        "        self.logits = nn.Linear(hid_size, len(out_voc))\n",
        "\n",
        "    def forward(self, inp, out):\n",
        "        \"\"\" Apply model in training mode \"\"\"\n",
        "        initial_state = self.encode(inp)\n",
        "        return self.decode(initial_state, out)\n",
        "\n",
        "\n",
        "    def encode(self, inp, **flags):\n",
        "        \"\"\"\n",
        "        Takes symbolic input sequence, computes initial state\n",
        "        :param inp: matrix of input tokens [batch, time]\n",
        "        :returns: initial decoder state tensors, one or many\n",
        "        \"\"\"\n",
        "        inp_emb = self.emb_inp(inp)\n",
        "        batch_size = inp.shape[0]\n",
        "\n",
        "        enc_seq, [last_state_but_not_really] = self.enc0(inp_emb)\n",
        "        # enc_seq: [batch, time, hid_size], last_state: [batch, hid_size]\n",
        "\n",
        "        # note: last_state is not _actually_ last because of padding, let's find the real last_state\n",
        "        lengths = (inp != self.inp_voc.eos_ix).to(torch.int64).sum(dim=1).clamp_max(inp.shape[1] - 1)\n",
        "        # print((inp != self.inp_voc.eos_ix).to(torch.int64))\n",
        "        last_state = enc_seq[torch.arange(len(enc_seq)), lengths]\n",
        "        # ^-- shape: [batch_size, hid_size]\n",
        "\n",
        "        dec_start = self.dec_start(last_state)\n",
        "        return [dec_start] \n",
        "\n",
        "    def decode_step(self, prev_state, prev_tokens, **flags):\n",
        "        \"\"\"\n",
        "        Takes previous decoder state and tokens, returns new state and logits for next tokens\n",
        "        :param prev_state: a list of previous decoder state tensors, same as returned by encode(...)\n",
        "        :param prev_tokens: previous output tokens, an int vector of [batch_size]\n",
        "        :return: a list of next decoder state tensors, a tensor of logits [batch, len(out_voc)]\n",
        "        \"\"\"\n",
        "        # prev_gru0_state = prev_state[0]\n",
        "        [prev_gru0_state, ] = prev_state\n",
        "\n",
        "        prev_token_embs = self.emb_out(prev_tokens)\n",
        "\n",
        "        new_gru_activations = self.dec0(prev_token_embs, prev_gru0_state)\n",
        "        new_dec_state = [new_gru_activations]\n",
        "        output_logits = self.logits(new_gru_activations)\n",
        "\n",
        "        return new_dec_state, output_logits\n",
        "\n",
        "    def decode(self, initial_state, out_tokens, **flags):\n",
        "        \"\"\" Iterate over reference tokens (out_tokens) with decode_step \"\"\"\n",
        "        batch_size = out_tokens.shape[0]\n",
        "        state = initial_state\n",
        "\n",
        "        # initial logits: always predict BOS\n",
        "        onehot_bos = F.one_hot(torch.full([batch_size], self.out_voc.bos_ix, dtype=torch.int64),\n",
        "                               num_classes=len(self.out_voc)).to(device=out_tokens.device)\n",
        "        first_logits = torch.log(onehot_bos.to(torch.float32) + 1e-9)\n",
        "\n",
        "        logits_sequence = [first_logits]\n",
        "        for i in range(out_tokens.shape[1] - 1):\n",
        "            state, logits = self.decode_step(state, out_tokens[:, i])\n",
        "            logits_sequence.append(logits)\n",
        "        return torch.stack(logits_sequence, dim=1)\n",
        "\n",
        "    def decode_inference(self, initial_state, max_len=100, **flags):\n",
        "        \"\"\" Generate translations from model (greedy version) \"\"\"\n",
        "        batch_size, device = len(initial_state[0]), initial_state[0].device\n",
        "        state = initial_state\n",
        "        outputs = [torch.full([batch_size], self.out_voc.bos_ix, dtype=torch.int64,\n",
        "                              device=device)]\n",
        "        all_states = [initial_state]\n",
        "\n",
        "        for i in range(max_len):\n",
        "            state, logits = self.decode_step(state, outputs[-1])\n",
        "            outputs.append(logits.argmax(dim=-1))\n",
        "            all_states.append(state)\n",
        "\n",
        "        return torch.stack(outputs, dim=1), all_states\n",
        "\n",
        "    def translate_lines(self, inp_lines, **kwargs):\n",
        "        inp = self.inp_voc.to_matrix(inp_lines).to(device)\n",
        "        initial_state = self.encode(inp)\n",
        "        out_ids, states = self.decode_inference(initial_state, **kwargs)\n",
        "        return self.out_voc.to_lines(out_ids.cpu().numpy()), states\n"
      ]
    },
    {
      "cell_type": "markdown",
      "metadata": {
        "id": "_wuv1-aVlrs0"
      },
      "source": [
        "### Training loss\n",
        "\n",
        "Our training objective is almost the same as it was for neural language models:\n",
        "$$ L = {\\frac1{|D|}} \\sum_{X, Y \\in D} \\sum_{y_t \\in Y} - \\log p(y_t \\mid y_1, \\dots, y_{t-1}, X, \\theta) $$\n",
        "\n",
        "where $|D|$ is the __total length of all sequences__, including BOS and first EOS, but excluding PAD."
      ]
    },
    {
      "cell_type": "code",
      "execution_count": null,
      "metadata": {},
      "outputs": [],
      "source": [
        "\n",
        "def compute_loss(model, inp, out, **flags):\n",
        "    \"\"\"\n",
        "    Compute loss (float32 scalar) as in the formula above\n",
        "    :param inp: input tokens matrix, int32[batch, time]\n",
        "    :param out: reference tokens matrix, int32[batch, time]\n",
        "\n",
        "    In order to pass the tests, your function should\n",
        "    * include loss at first EOS but not the subsequent ones\n",
        "    * divide sum of losses by a sum of input lengths (use voc.compute_mask)\n",
        "    \"\"\"\n",
        "    mask = model.out_voc.compute_mask(out)\n",
        "\n",
        "    # outputs of the model, [batch_size, out_len, num_tokens]\n",
        "    logits_seq = model(inp, out) #\n",
        "\n",
        "    loss = F.cross_entropy(logits_seq.permute(0, 2, 1), out, reduction='none')\n",
        "\n",
        "    # Note: you can compute loss more efficiently using using F.cross_entropy\n",
        "\n",
        "    # average cross-entropy over tokens where mask == True\n",
        "    return (loss*mask).sum() / mask.sum()"
      ]
    },
    {
      "cell_type": "code",
      "execution_count": null,
      "metadata": {},
      "outputs": [],
      "source": [
        "model = BasicModel(inp_voc, out_voc, emb_size=64, hid_size=128).to(device)\n",
        "dummy_inp_tokens = inp_voc.to_matrix(sorted(train_inp, key=len)[5:10]).to(device)\n",
        "dummy_out_tokens = out_voc.to_matrix(sorted(train_out, key=len)[5:10]).to(device)\n",
        "\n",
        "dummy_loss = compute_loss(model, dummy_inp_tokens, dummy_out_tokens)\n",
        "print(\"Loss:\", dummy_loss)\n",
        "assert np.allclose(dummy_loss.item(), 7.5, rtol=0.1, atol=0.1), \"We're sorry for your loss\"\n",
        "\n",
        "# test autograd\n",
        "dummy_loss.backward()\n",
        "for name, param in model.named_parameters():\n",
        "    assert param.grad is not None and abs(param.grad.max()) != 0, f\"Param {name} received no gradients\""
      ]
    },
    {
      "cell_type": "markdown",
      "metadata": {
        "id": "HpbaBpW7lrs-"
      },
      "source": [
        "### Evaluation: BLEU\n",
        "\n",
        "Machine translation is commonly evaluated with [BLEU](https://en.wikipedia.org/wiki/BLEU) score. This metric simply computes which fraction of predicted n-grams is actually present in the reference translation. It does so for n=1,2,3 and 4 and computes the geometric average with penalty if translation is shorter than reference.\n",
        "\n",
        "While BLEU [has many drawbacks](http://www.cs.jhu.edu/~ccb/publications/re-evaluating-the-role-of-bleu-in-mt-research.pdf), it still remains the most commonly used metric and one of the simplest to compute."
      ]
    },
    {
      "cell_type": "code",
      "execution_count": null,
      "metadata": {},
      "outputs": [],
      "source": [
        "from nltk.translate.bleu_score import corpus_bleu\n",
        "def compute_bleu(model, inp_lines, out_lines, bpe_sep='@@ ', **flags):\n",
        "    \"\"\"\n",
        "    Estimates corpora-level BLEU score of model's translations given inp and reference out\n",
        "    Note: if you're serious about reporting your results, use https://pypi.org/project/sacrebleu\n",
        "    \"\"\"\n",
        "    with torch.no_grad():\n",
        "        translations, _ = model.translate_lines(inp_lines, **flags)\n",
        "        translations = [line.replace(bpe_sep, '') for line in translations]\n",
        "        actual = [line.replace(bpe_sep, '') for line in out_lines]\n",
        "        return corpus_bleu(\n",
        "            [[ref.split()] for ref in actual],\n",
        "            [trans.split() for trans in translations],\n",
        "            smoothing_function=lambda precisions, **kw: [p + 1.0 / p.denominator for p in precisions]\n",
        "            ) * 100"
      ]
    },
    {
      "cell_type": "code",
      "execution_count": null,
      "metadata": {},
      "outputs": [],
      "source": [
        "compute_bleu(model, dev_inp, dev_out)"
      ]
    },
    {
      "cell_type": "markdown",
      "metadata": {
        "id": "edk_oVg0lrtW"
      },
      "source": [
        "### Your Attention Required\n",
        "\n",
        "In this section we want you to improve over the basic model by implementing a simple attention mechanism.\n",
        "\n",
        "This is gonna be a two-parter: building the __attention layer__ and using it for an __attentive seq2seq model__."
      ]
    },
    {
      "cell_type": "markdown",
      "metadata": {
        "id": "Qz9aROAIlrtX"
      },
      "source": [
        "### Attention layer (1 points)\n",
        "\n",
        "Here you will have to implement a layer that computes a simple additive attention:\n",
        "\n",
        "Given encoder sequence $ h^e_0, h^e_1, h^e_2, ..., h^e_T$ and a single decoder state $h^d$,\n",
        "\n",
        "* Compute logits with a 2-layer neural network\n",
        "$$a_t = linear_{out}(tanh(linear_{e}(h^e_t) + linear_{d}(h_d)))$$\n",
        "* Get probabilities from logits,\n",
        "$$ p_t = {{e ^ {a_t}} \\over { \\sum_\\tau e^{a_\\tau} }} $$\n",
        "\n",
        "* Add up encoder states with probabilities to get __attention response__\n",
        "$$ attn = \\sum_t p_t \\cdot h^e_t $$\n",
        "\n",
        "You can learn more about attention layers in the lecture slides or [from this post](https://distill.pub/2016/augmented-rnns/)."
      ]
    },
    {
      "cell_type": "code",
      "execution_count": null,
      "metadata": {
        "id": "CFNhNqajvlP0"
      },
      "outputs": [],
      "source": [
        "class AttentionLayer(nn.Module):\n",
        "    def __init__(self, name, enc_size, dec_size, hid_size, activ=torch.tanh):\n",
        "        \"\"\" A layer that computes additive attention response and weights \"\"\"\n",
        "        super().__init__()\n",
        "        self.name = name\n",
        "        self.enc_size = enc_size # num units in encoder state\n",
        "        self.dec_size = dec_size # num units in decoder state\n",
        "        self.hid_size = hid_size # attention layer hidden units\n",
        "        self.activ = activ       # attention layer hidden nonlinearity\n",
        "\n",
        "        # create trainable paramteres like this:\n",
        "        #self.<PARAMETER_NAME> = nn.Parameter(<INITIAL_VALUES>, requires_grad=True)\n",
        "        \n",
        "        self.linear_enc = nn.Linear(enc_size, hid_size, bias=False)\n",
        "        self.linear_dec = nn.Linear(dec_size, hid_size, bias=False)\n",
        "        self.linear_out = nn.Linear(hid_size, 1, bias=False)\n",
        "\n",
        "    def forward(self, enc, dec, inp_mask):\n",
        "        \"\"\"\n",
        "        Computes attention response and weights\n",
        "        :param enc: encoder activation sequence, float32[batch_size, ninp, enc_size]\n",
        "        :param dec: single decoder state used as \"query\", float32[batch_size, dec_size]\n",
        "        :param inp_mask: mask on enc activatons (0 after first eos), float32 [batch_size, ninp]\n",
        "        :returns: attn[batch_size, enc_size], probs[batch_size, ninp]\n",
        "            - attn - attention response vector (weighted sum of enc)\n",
        "            - probs - attention weights after softmax\n",
        "        \"\"\"\n",
        "\n",
        "        # Compute logits\n",
        "        logits = self.linear_out(self.activ(self.linear_enc(enc) + self.linear_dec(dec.unsqueeze(1))))\n",
        "\n",
        "        # Apply mask - if mask is 0, logits should be -inf or -1e9\n",
        "        # You may need torch.where\n",
        "        logits = torch.where(inp_mask == 0, -torch.inf, logits.squeeze(-1))\n",
        "\n",
        "        # Compute attention probabilities (softmax)\n",
        "        probs = F.softmax(logits, dim=-1)\n",
        "\n",
        "        # Compute attention response using enc and probs\n",
        "        attn = torch.sum(enc * probs.unsqueeze(-1), dim=1)\n",
        "\n",
        "        return attn, probs"
      ]
    },
    {
      "cell_type": "markdown",
      "metadata": {
        "id": "IalfpdAelrtb"
      },
      "source": [
        "### Seq2seq model with attention\n",
        "\n",
        "You can now use the attention layer to build a network. The simplest way to implement attention is to use it in decoder phase:\n",
        "![img](https://i.imgur.com/6fKHlHb.png)\n",
        "_image from distill.pub [article](https://distill.pub/2016/augmented-rnns/)_\n",
        "\n",
        "On every step, use __previous__ decoder state to obtain attention response. Then feed concat this response to the inputs of next attention layer.\n",
        "\n",
        "The key implementation detail here is __model state__. Put simply, you can add any tensor into the list of `encode` outputs. You will then have access to them at each `decode` step. This may include:\n",
        "* Last RNN hidden states (as in basic model)\n",
        "* The whole sequence of encoder outputs (to attend to) and mask\n",
        "* Attention probabilities (to visualize)\n",
        "\n",
        "_There are, of course, alternative ways to wire attention into your network and different kinds of attention. Take a look at [this](https://arxiv.org/abs/1609.08144), [this](https://arxiv.org/abs/1706.03762) and [this](https://arxiv.org/abs/1808.03867) for ideas. And for image captioning/im2latex there's [visual attention](https://arxiv.org/abs/1502.03044)_"
      ]
    },
    {
      "cell_type": "code",
      "execution_count": null,
      "metadata": {
        "id": "WrgGy80lQjrX"
      },
      "outputs": [],
      "source": [
        "class AttentiveModel(BasicModel):\n",
        "    def __init__(self, name, inp_voc, out_voc,\n",
        "                 emb_size=64, hid_size=128, attn_size=128):\n",
        "        \"\"\" Translation model that uses attention. See instructions above. \"\"\"\n",
        "        nn.Module.__init__(self)  # initialize base class to track sub-layers, trainable variables, etc.\n",
        "        self.inp_voc, self.out_voc = inp_voc, out_voc\n",
        "        self.hid_size = hid_size\n",
        "\n",
        "        #<YOUR CODE: initialize layers>\n",
        "        \n",
        "        self.emb_inp = nn.Embedding(len(inp_voc), emb_size)\n",
        "        self.emb_out = nn.Embedding(len(out_voc), emb_size)\n",
        "        self.enc0 = nn.GRU(emb_size, hid_size, batch_first=True)\n",
        "        \n",
        "        self.attention = AttentionLayer(name, hid_size, hid_size, attn_size)\n",
        "        self.decoder0 = nn.GRUCell(emb_size + hid_size, hid_size)\n",
        "        \n",
        "        self.logits = nn.Linear(hid_size, len(out_voc))\n",
        "        \n",
        "        self.name = name\n",
        "\n",
        "    def encode(self, inp, **flags):\n",
        "        \"\"\"\n",
        "        Takes symbolic input sequence, computes initial state\n",
        "        :param inp: matrix of input tokens [batch, time]\n",
        "        :return: a list of initial decoder state tensors\n",
        "        \"\"\"\n",
        "\n",
        "        # encode input sequence, create initial decoder states\n",
        "        inp_emb = self.emb_inp(inp)\n",
        "        batch_size = inp.shape[0]\n",
        "        \n",
        "        enc_seq, _ = self.enc0(inp_emb)\n",
        "\n",
        "        # apply attention layer from initial decoder hidden state\n",
        "        mask = self.out_voc.compute_mask(inp)\n",
        "        \n",
        "        dec_start = torch.zeros(batch_size, self.hid_size, device=inp.device)\n",
        "        first_attn, first_attn_probas = self.attention(enc_seq, dec_start, mask)\n",
        "\n",
        "        # Build first state: include\n",
        "        # * initial states for decoder recurrent layers\n",
        "        # * encoder sequence and encoder attn mask (for attention)\n",
        "        # * make sure that last state item is attention probabilities tensor\n",
        "        return [dec_start, enc_seq, mask, first_attn, first_attn_probas]\n",
        "\n",
        "    def decode_step(self, prev_state, prev_tokens, **flags):\n",
        "        \"\"\"\n",
        "        Takes previous decoder state and tokens, returns new state and logits for next tokens\n",
        "        :param prev_state: a list of previous decoder state tensors\n",
        "        :param prev_tokens: previous output tokens, an int vector of [batch_size]\n",
        "        :return: a list of next decoder state tensors, a tensor of logits [batch, n_tokens]\n",
        "        \"\"\"\n",
        "        # prev_gru0_state = prev_state[0]\n",
        "        prev_dec_state, enc_seq, mask, prev_attn, prev_attn_probas = prev_state\n",
        "\n",
        "        prev_token_embs = self.emb_out(prev_tokens)\n",
        "\n",
        "        new_dec_state = self.decoder0(torch.cat([prev_token_embs, prev_attn], dim=-1), prev_dec_state)\n",
        "        \n",
        "        output_logits = self.logits(new_dec_state)\n",
        "        \n",
        "        attn, attn_probas = self.attention(enc_seq, new_dec_state, mask)\n",
        "\n",
        "        return [new_dec_state, enc_seq, mask, attn, attn_probas], output_logits"
      ]
    },
    {
      "cell_type": "markdown",
      "metadata": {
        "id": "ryZCOTEslrtf"
      },
      "source": [
        "### Training attentive model\n",
        "\n",
        "Please reuse the infrastructure you've built for the regular model. I hope you didn't hard-code anything :)"
      ]
    },
    {
      "cell_type": "code",
      "execution_count": null,
      "metadata": {},
      "outputs": [],
      "source": [
        "model = AttentiveModel('attentive', inp_voc, out_voc, emb_size=64, hid_size=128, attn_size=128).to(device)\n",
        "opt = torch.optim.Adam(model.parameters(), lr=1e-3)"
      ]
    },
    {
      "cell_type": "code",
      "execution_count": null,
      "metadata": {
        "id": "YVyI5ZokvlP5"
      },
      "outputs": [],
      "source": [
        "#<YOUR CODE: create AttentiveModel and training utilities>\n",
        "from IPython.display import clear_output\n",
        "from tqdm import tqdm, trange\n",
        "\n",
        "def train(model, opt, batch_size=32, epochs=25000):\n",
        "    metrics = {'train_loss': [], 'dev_bleu': [] }\n",
        "    for _ in trange(epochs):\n",
        "        step = len(metrics['train_loss']) + 1\n",
        "        batch_ix = np.random.randint(len(train_inp), size=batch_size)\n",
        "        batch_inp = inp_voc.to_matrix(train_inp[batch_ix]).to(device)\n",
        "        batch_out = out_voc.to_matrix(train_out[batch_ix]).to(device)\n",
        "\n",
        "        #\n",
        "        loss_t = compute_loss(model, batch_inp, batch_out)\n",
        "        opt.zero_grad()\n",
        "        loss_t.backward()\n",
        "        opt.step()\n",
        "        metrics['train_loss'].append((step, loss_t.item()))\n",
        "\n",
        "        if step % 100 == 0:\n",
        "            metrics['dev_bleu'].append((step, compute_bleu(model, dev_inp, dev_out)))\n",
        "\n",
        "            clear_output(True)\n",
        "            plt.figure(figsize=(12,4))\n",
        "            for i, (name, history) in enumerate(sorted(metrics.items())):\n",
        "                plt.subplot(1, len(metrics), i + 1)\n",
        "                plt.title(name)\n",
        "                plt.plot(*zip(*history))\n",
        "                plt.grid()\n",
        "            plt.show()\n",
        "            print(\"Mean loss=%.3f\" % np.mean(metrics['train_loss'][-10:], axis=0)[1], flush=True)\n",
        "            \n",
        "def results(model):\n",
        "    for inp_line, trans_line in zip(dev_inp[::500], model.translate_lines(dev_inp[::500])[0]):\n",
        "        print(inp_line)\n",
        "        print(trans_line)\n",
        "        print()\n",
        "    final_bleu = compute_bleu(model, dev_inp, dev_out)\n",
        "    print(\"Final BLEU score:\", final_bleu)\n",
        "\n",
        "# Note: it's okay if bleu oscillates up and down as long as it gets better on average over long term (e.g. 5k batch"
      ]
    },
    {
      "cell_type": "code",
      "execution_count": null,
      "metadata": {},
      "outputs": [],
      "source": [
        "#train(model, opt, epochs=1000)\n",
        "#results(model)"
      ]
    },
    {
      "cell_type": "code",
      "execution_count": null,
      "metadata": {
        "id": "Kp-dJDF5Srnv"
      },
      "outputs": [],
      "source": [
        "#torch.save(model.state_dict(), 'attention_batch32.pt')"
      ]
    },
    {
      "cell_type": "markdown",
      "metadata": {
        "id": "7dAyywDEvlP-"
      },
      "source": [
        "### Visualizing model attention (1 points)\n",
        "\n",
        "After training the attentive translation model, you can check it's sanity by visualizing its attention weights.\n",
        "\n",
        "We provided you with a function that draws attention maps using [`Bokeh`](https://bokeh.pydata.org/en/latest/index.html). Once you managed to produce something better than random noise, please leave them in the notebook or save  bokeh figures and add to your sumbission. You can save bokeh images as screenshots or using this button:\n",
        "\n",
        "![bokeh_panel](https://github.com/yandexdataschool/nlp_course/raw/2019/resources/bokeh_panel.png)\n",
        "\n",
        "__Note:__ you're not locked into using bokeh. If you prefer a different visualization method, feel free to use that instead of bokeh."
      ]
    },
    {
      "cell_type": "code",
      "execution_count": null,
      "metadata": {
        "id": "wP7GJaLMvlP_"
      },
      "outputs": [],
      "source": [
        "import bokeh.plotting as pl\n",
        "import bokeh.models as bm\n",
        "from bokeh.io import output_notebook, show\n",
        "output_notebook()\n",
        "\n",
        "def draw_attention(inp_line, translation, probs):\n",
        "    \"\"\" An intentionally ambiguous function to visualize attention weights \"\"\"\n",
        "    inp_tokens = inp_voc.tokenize(inp_line)\n",
        "    trans_tokens = out_voc.tokenize(translation)\n",
        "    probs = probs[:len(trans_tokens), :len(inp_tokens)]\n",
        "\n",
        "    fig = pl.figure(x_range=(0, len(inp_tokens)), y_range=(0, len(trans_tokens)),\n",
        "                    x_axis_type=None, y_axis_type=None, tools=[])\n",
        "    fig.image([probs[::-1]], 0, 0, len(inp_tokens), len(trans_tokens))\n",
        "\n",
        "    fig.add_layout(bm.LinearAxis(axis_label='source tokens'), 'above')\n",
        "    fig.xaxis.ticker = np.arange(len(inp_tokens)) + 0.5\n",
        "    fig.xaxis.major_label_overrides = dict(zip(np.arange(len(inp_tokens)) + 0.5, inp_tokens))\n",
        "    fig.xaxis.major_label_orientation = 45\n",
        "\n",
        "    fig.add_layout(bm.LinearAxis(axis_label='translation tokens'), 'left')\n",
        "    fig.yaxis.ticker = np.arange(len(trans_tokens)) + 0.5\n",
        "    fig.yaxis.major_label_overrides = dict(zip(np.arange(len(trans_tokens)) + 0.5, trans_tokens[::-1]))\n",
        "\n",
        "    show(fig)"
      ]
    },
    {
      "cell_type": "code",
      "execution_count": null,
      "metadata": {
        "id": "5qouLBt4vlP_"
      },
      "outputs": [],
      "source": [
        "inp = dev_inp[::500]\n",
        "\n",
        "trans, states = model.translate_lines(inp)\n",
        "\n",
        "# select attention probs from model state (you may need to change this for your custom model)\n",
        "# attention_probs below must have shape [batch_size, translation_length, input_length], extracted from states\n",
        "# e.g. if attention probs are at the end of each state, use np.stack([state[-1] for state in states], axis=1)\n"
      ]
    },
    {
      "cell_type": "code",
      "execution_count": null,
      "metadata": {
        "id": "cGlTTt15UbFR"
      },
      "outputs": [],
      "source": [
        "probs = [states[i][-1] for i in range(len(states))]"
      ]
    },
    {
      "cell_type": "code",
      "execution_count": null,
      "metadata": {
        "id": "dXrHr82NRis9"
      },
      "outputs": [],
      "source": [
        "attention_probs = np.stack([state[-1].cpu().detach().numpy() for state in states], axis=1)"
      ]
    },
    {
      "cell_type": "code",
      "execution_count": null,
      "metadata": {
        "colab": {
          "base_uri": "https://localhost:8080/",
          "height": 1000
        },
        "id": "xb7jHRxWvlQA",
        "outputId": "77196ef0-6cbc-41b6-d2c0-6a7f9734a176"
      },
      "outputs": [],
      "source": [
        "for i in range(5):\n",
        "    draw_attention(inp[i], trans[i], attention_probs[i])\n",
        "\n",
        "# Does it look fine already? don't forget to save images for anytask!"
      ]
    },
    {
      "cell_type": "markdown",
      "metadata": {
        "id": "Fu875YfmvlQA"
      },
      "source": [
        "__Note:__ If the attention maps are not iterpretable, try starting encoder from zeros (instead of dec_start), forcing model to use attention."
      ]
    },
    {
      "cell_type": "markdown",
      "metadata": {
        "id": "pbIIngNVlrtt"
      },
      "source": [
        "## Implement Two different archetectures with attention (8 points)\n",
        "\n",
        "We want you to find the best model for the task. Use everything you know.\n",
        "\n",
        "* add attention after RNN or as a hidden state input\n",
        "* different recurrent units: rnn/gru/lstm; deeper architectures\n",
        "* bidirectional encoder, different attention methods for decoder (additive, dot-product, multi-head)\n",
        "* word dropout, training schedules, anything you can imagine\n",
        "* replace greedy inference with beam search\n",
        "\n",
        "Describe what you tried and what results you obtained in a short report."
      ]
    },
    {
      "cell_type": "code",
      "execution_count": null,
      "metadata": {
        "id": "as7VjVJaOQAJ"
      },
      "outputs": [],
      "source": [
        "class ImprovedModel1(BasicModel):\n",
        "    def __init__(self, name, inp_voc, out_voc, emb_size=64, hid_size=128, attn_size=128, word_dropout_prob=0.05):\n",
        "        \"\"\" Translation model that uses attention. See instructions above. \"\"\"\n",
        "        nn.Module.__init__(self)  # initialize base class to track sub-layers, trainable variables, etc.\n",
        "        self.inp_voc, self.out_voc = inp_voc, out_voc\n",
        "        self.hid_size = hid_size\n",
        "\n",
        "        #<YOUR CODE: initialize layers>\n",
        "        \n",
        "        self.emb_inp = nn.Embedding(len(inp_voc), emb_size)\n",
        "        self.emb_out = nn.Embedding(len(out_voc), emb_size)\n",
        "        self.enc0 = nn.GRU(input_size=emb_size,hidden_size=hid_size,batch_first=True, num_layers=3, bidirectional=True)\n",
        "        \n",
        "        self.attention = AttentionLayer(name, 2*hid_size, hid_size, attn_size)\n",
        "        self.context_proj = nn.Linear(2 * hid_size, hid_size)\n",
        "        self.decoder0 = nn.GRUCell(emb_size + hid_size, hid_size)\n",
        "        \n",
        "        self.logits = nn.Linear(hid_size, len(out_voc))\n",
        "        \n",
        "        self.name = name\n",
        "        self.word_dropout_prob = word_dropout_prob\n",
        "\n",
        "    def word_dropout(self, tokens, vocab, dropout_prob):\n",
        "        \"\"\"\n",
        "        Replace some tokens with <unk> at dropout_prob, only if self.training == True.\n",
        "        :param tokens: (batch, time) or (batch,) int tensor of token ids\n",
        "        :param vocab:  the vocabulary object (needed for unk_ix)\n",
        "        :param dropout_prob: float in [0,1]\n",
        "        \"\"\"\n",
        "        if (not self.training) or (dropout_prob <= 0.0):\n",
        "            return tokens  # no change in eval mode\n",
        "\n",
        "        # Create a random mask (same shape as tokens) that is True with probability dropout_prob\n",
        "        mask = torch.rand(tokens.shape, device=tokens.device) < dropout_prob\n",
        "\n",
        "        # Clone the tokens so we don't modify in-place\n",
        "        dropped_tokens = tokens.clone()\n",
        "\n",
        "        # Replace masked positions with <unk> index\n",
        "        # (make sure your vocab has .unk_ix defined)\n",
        "        dropped_tokens[mask] = vocab.unk_ix\n",
        "        return dropped_tokens\n",
        "\n",
        "    def encode(self, inp, **flags):\n",
        "        \"\"\"\n",
        "        Takes symbolic input sequence, computes initial state\n",
        "        :param inp: matrix of input tokens [batch, time]\n",
        "        :return: a list of initial decoder state tensors\n",
        "        \"\"\"\n",
        "\n",
        "        inp_dropped = self.word_dropout(inp, self.inp_voc, self.word_dropout_prob)\n",
        "\n",
        "        # encode input sequence, create initial decoder states\n",
        "        inp_emb = self.emb_inp(inp_dropped)\n",
        "        batch_size = inp.shape[0]\n",
        "        \n",
        "        enc_seq, _ = self.enc0(inp_emb)\n",
        "\n",
        "        # apply attention layer from initial decoder hidden state\n",
        "        mask = self.out_voc.compute_mask(inp)\n",
        "        \n",
        "        dec_start = torch.zeros(batch_size, self.hid_size, device=inp.device)\n",
        "        first_attn, first_attn_probas = self.attention(enc_seq, dec_start, mask)\n",
        "        first_attn = self.context_proj(first_attn)\n",
        "\n",
        "        # Build first state: include\n",
        "        # * initial states for decoder recurrent layers\n",
        "        # * encoder sequence and encoder attn mask (for attention)\n",
        "        # * make sure that last state item is attention probabilities tensor\n",
        "        return [dec_start, enc_seq, mask, first_attn, first_attn_probas]\n",
        "\n",
        "    def decode_step(self, prev_state, prev_tokens, **flags):\n",
        "        \"\"\"\n",
        "        Takes previous decoder state and tokens, returns new state and logits for next tokens\n",
        "        :param prev_state: a list of previous decoder state tensors\n",
        "        :param prev_tokens: previous output tokens, an int vector of [batch_size]\n",
        "        :return: a list of next decoder state tensors, a tensor of logits [batch, n_tokens]\n",
        "        \"\"\"\n",
        "        # prev_gru0_state = prev_state[0]\n",
        "        prev_dec_state, enc_seq, mask, prev_attn, prev_attn_probas = prev_state\n",
        "\n",
        "        prev_token_embs = self.emb_out(prev_tokens)\n",
        "\n",
        "        new_dec_state = self.decoder0(torch.cat([prev_token_embs, prev_attn], dim=-1), prev_dec_state)\n",
        "        \n",
        "        output_logits = self.logits(new_dec_state)\n",
        "        \n",
        "        attn, attn_probas = self.attention(enc_seq, new_dec_state, mask)\n",
        "        \n",
        "        attn = self.context_proj(attn)\n",
        "        \n",
        "        return [new_dec_state, enc_seq, mask, attn, attn_probas], output_logits\n",
        "    \n"
      ]
    },
    {
      "cell_type": "code",
      "execution_count": null,
      "metadata": {},
      "outputs": [],
      "source": [
        "import torch.nn as nn\n",
        "import torch.nn.functional as F\n",
        "\n",
        "class ImprovedModel2(BasicModel):\n",
        "    def __init__(self, name, inp_voc, out_voc,\n",
        "                 emb_size=64, hid_size=128, attn_size=128):\n",
        "        \"\"\" Translation model that uses attention with LSTM. \"\"\"\n",
        "        nn.Module.__init__(self)\n",
        "        self.inp_voc, self.out_voc = inp_voc, out_voc\n",
        "        self.hid_size = hid_size\n",
        "\n",
        "        self.emb_inp = nn.Embedding(len(inp_voc), emb_size)\n",
        "        self.emb_out = nn.Embedding(len(out_voc), emb_size)\n",
        "        self.enc0 = nn.LSTM(emb_size, hid_size, batch_first=True)\n",
        "\n",
        "        self.attention = AttentionLayer(name, hid_size, hid_size, attn_size)\n",
        "        self.attn_hidden_layer = nn.Linear(hid_size + attn_size, hid_size)\n",
        "        \n",
        "        # Changed GRUCell -> LSTMCell\n",
        "        self.decoder0 = nn.LSTMCell(emb_size + hid_size, hid_size)\n",
        "\n",
        "        self.logits = nn.Linear(hid_size, len(out_voc))\n",
        "        self.name = name\n",
        "\n",
        "    def encode(self, inp, **flags):\n",
        "        \"\"\"\n",
        "        Takes symbolic input sequence, computes initial state\n",
        "        :param inp: matrix of input tokens [batch, time]\n",
        "        :return: a list of initial decoder state tensors\n",
        "        \"\"\"\n",
        "        inp_emb = self.emb_inp(inp)\n",
        "        batch_size = inp.shape[0]\n",
        "\n",
        "        enc_seq, (h_n, c_n) = self.enc0(inp_emb)\n",
        "\n",
        "        mask = self.out_voc.compute_mask(inp)\n",
        "\n",
        "        # Initialize LSTM decoder state with (h, c)\n",
        "        dec_start = (torch.zeros(batch_size, self.hid_size, device=inp.device),\n",
        "                     torch.zeros(batch_size, self.hid_size, device=inp.device))\n",
        "\n",
        "        first_attn, first_attn_probas = self.attention(enc_seq, dec_start[0], mask)\n",
        "\n",
        "        return [dec_start, enc_seq, mask, first_attn, first_attn_probas]\n",
        "\n",
        "    def decode_step(self, prev_state, prev_tokens, **flags):\n",
        "        \"\"\"\n",
        "        Takes previous decoder state and tokens, returns new state and logits for next tokens\n",
        "        :param prev_state: a list of previous decoder state tensors\n",
        "        :param prev_tokens: previous output tokens, an int vector of [batch_size]\n",
        "        :return: a list of next decoder state tensors, a tensor of logits [batch, n_tokens]\n",
        "        \"\"\"\n",
        "        (prev_h, prev_c), enc_seq, mask, prev_attn, prev_attn_probas = prev_state\n",
        "\n",
        "        prev_token_embs = self.emb_out(prev_tokens)\n",
        "\n",
        "        # LSTMCell requires (hidden_state, cell_state)\n",
        "        new_h, new_c = self.decoder0(torch.cat([prev_token_embs, prev_attn], dim=-1), (prev_h, prev_c))\n",
        "\n",
        "        attn, attn_probas = self.attention(enc_seq, new_h, mask)\n",
        "\n",
        "        hidden_attn = torch.cat([new_h, attn], dim=-1)\n",
        "        hidden_attn = self.attn_hidden_layer(hidden_attn)\n",
        "        hidden_attn = F.relu(hidden_attn)\n",
        "\n",
        "        output_logits = self.logits(hidden_attn)\n",
        "\n",
        "        return [(new_h, new_c), enc_seq, mask, attn, attn_probas], output_logits\n",
        "    \n",
        "    def decode_inference(self, initial_state, max_len=100, **flags):\n",
        "        \"\"\" Generate translations from model (greedy version) \"\"\"\n",
        "        prev_h, prev_c = initial_state[0]  # Extract LSTM hidden state\n",
        "        batch_size, device = prev_h.shape[0], prev_h.device\n",
        "        state = initial_state\n",
        "        outputs = [torch.full([batch_size], self.out_voc.bos_ix, dtype=torch.int64, device=device)]\n",
        "\n",
        "        for _ in range(max_len):\n",
        "            state, logits = self.decode_step(state, outputs[-1])\n",
        "            outputs.append(logits.argmax(dim=-1))\n",
        "        return torch.stack(outputs, dim=1), state\n"
      ]
    },
    {
      "cell_type": "code",
      "execution_count": null,
      "metadata": {},
      "outputs": [],
      "source": [
        "baseAttentiomodel = AttentiveModel('attentive', inp_voc, out_voc, emb_size=64, hid_size=128, attn_size=128).to(device)\n",
        "#baseOpt = torch.optim.Adam(baseAttentiomodel.parameters(), lr=1e-3)\n",
        "baseAttentiomodel.load_state_dict(torch.load(\"baseAttentiomodel.pt\", map_location=device, weights_only=False))\n",
        "\n",
        "ImprovedModel1 = ImprovedModel1('ImprovedModel1', inp_voc, out_voc, emb_size=64, hid_size=128, attn_size=128, word_dropout_prob=0.05).to(device)\n",
        "#ImprovedOpt1 = torch.optim.Adam(ImprovedModel1.parameters(), lr=1e-3)\n",
        "ImprovedModel1.load_state_dict(torch.load(\"ImprovedModel1.pt\", map_location=device, weights_only=False))\n",
        "\n",
        "ImprovedModel2 = ImprovedModel2('ImprovedModel2', inp_voc, out_voc, emb_size=64, hid_size=128, attn_size=128).to(device)\n",
        "#ImprovedOpt2 = torch.optim.Adam(ImprovedModel2.parameters(), lr=1e-3)\n",
        "ImprovedModel2.load_state_dict(torch.load(\"ImprovedModel2.pt\", map_location=device, weights_only=False))\n",
        "\n",
        "#train(baseAttentiomodel, baseOpt, epochs=25000)\n",
        "#train(ImprovedModel1, ImprovedOpt1, epochs=25000)\n",
        "#train(ImprovedModel2, ImprovedOpt2, epochs=25000)"
      ]
    },
    {
      "cell_type": "code",
      "execution_count": null,
      "metadata": {},
      "outputs": [],
      "source": [
        "#export the model\n",
        "torch.save(baseAttentiomodel.state_dict(), 'baseAttentiomodel.pt')\n",
        "torch.save(ImprovedModel1.state_dict(), 'ImprovedModel1.pt')\n",
        "torch.save(ImprovedModel2.state_dict(), 'ImprovedModel2.pt')"
      ]
    },
    {
      "cell_type": "code",
      "execution_count": null,
      "metadata": {},
      "outputs": [],
      "source": [
        "print(\"---------------Base Model---------------\")\n",
        "results(baseAttentiomodel)\n",
        "print(\"---------------Imporoved Model 1---------------\")\n",
        "results(ImprovedModel1)\n",
        "print(\"---------------Imporoved Model 2---------------\")\n",
        "results(ImprovedModel2)"
      ]
    },
    {
      "cell_type": "markdown",
      "metadata": {},
      "source": [
        "# WRITEUP\n",
        "\n",
        "### model 1\n",
        "For model one, I decided to just go with my gut and make some changes that I thought would improve its performance. For model 1, I implemented a deeper encoder and made it bi-directional. I also moved the attention to occur after the RNN. This, however made the model perform worse :( this model got a belt score of around 38, my main hunch I formed later when working on model 2 was that this was caused mainly by the bi-directional encoder, It seems that adding extra outputs to the encoder diluted the meaningful information that could be retrieved and resulted in a worse score\n",
        "\n",
        "### model 2\n",
        "model 2: I tried my best to improve; I went for a depth of one lstm encoder and decoder. I also added attention as a hidden input, and that seemed to improve the model a decent amount. I tried using dropout, but it only made the model marginally worse, I played around with depth 2-4 on the encoder, but that made the model lose about a 2 - 4 belt score, I tried bi-directional encoding that resulted in a 5-10 fewer points on the bleu score, I tried a few different attention methods for the decoder but found that the base version did the best. Overall, I got a final score of around 50, which is a decent improvement over the base model."
      ]
    }
  ],
  "metadata": {
    "accelerator": "GPU",
    "colab": {
      "collapsed_sections": [
        "edk_oVg0lrtW"
      ],
      "gpuType": "T4",
      "provenance": []
    },
    "kernelspec": {
      "display_name": "llm",
      "language": "python",
      "name": "python3"
    },
    "language_info": {
      "codemirror_mode": {
        "name": "ipython",
        "version": 3
      },
      "file_extension": ".py",
      "mimetype": "text/x-python",
      "name": "python",
      "nbconvert_exporter": "python",
      "pygments_lexer": "ipython3",
      "version": "3.12.8"
    }
  },
  "nbformat": 4,
  "nbformat_minor": 0
}
